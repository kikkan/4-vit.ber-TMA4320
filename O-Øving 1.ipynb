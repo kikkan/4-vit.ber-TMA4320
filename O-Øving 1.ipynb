{
 "cells": [
  {
   "cell_type": "markdown",
   "metadata": {},
   "source": [
    "# Øving 1, TMA4320\n",
    "\n",
    "* **Veiledning:** Torsdag 9. januar, 0815-1000 i H3\n",
    "* **Innleveringsfrist:** Torsdag 16. januar, kl 1400\n",
    "* **Innleveringsmetode** Følgende to krav er nødvendig for godkjenning\n",
    "    1. Opplasting av Jupyter Notebook (individuelt) i Blackboard\n",
    "    2. Svare på skjema med kontrollspørsmål under Øving 1 i Blackboard\n",
    "\n",
    "\n",
    "Vi skal gjøre en liten oppvarming med bruk av Jupyter Notebooks, men med lite teori siden vi ennå ikke har kommet ordentlig i gang. \n",
    "\n",
    "**Oppgave 0.**\n",
    "Hvis du har installert Anaconda på din PC og har testet ut Jupyter Notebook, så trenger du ikke gjøre de første to punktene av denne oppgaven. I motsatt fall regner jeg med at du leser denne teksten som en webside (.html), og må da gjøre følgende for å kunne laste opp Øving 1.ipynb i Jupyter Notebook.\n",
    "* Last ned og installer Anaconda på din PC, f.eks. fra [https://www.anaconda.com/download](https://www.anaconda.com/download \"Lenke\").\n",
    "* Start Anaconda-applikasjonen, og klikk på \"launch\" i Jupyter Notebook boksen.\n",
    "* Lagre filen \"Øving 1.ipynb\" fra Blackboard, og last den opp i Jupyter Notebook\n",
    "* Gjør de andre oppgavene nedenfor ved å redigere denne filen, og lagre sluttresultatet\n",
    "* Din ferdiglagede Notebook lastes så opp som svar på Øving 1\n",
    "* I tillegg skal du forøvrig svare på tre kontrollspørsmål på et eget skjema i Blackboard. Spørsmålene finner du lenger ned i øvingen.\n",
    "\n",
    "Jupyter Notebook har ulike typer *celler* eller avsnitt. Det du ser på nå er en såkalt Markdown-celle som brukes til å skrive tekst og formler. Markdownspråket er veldig enkelt å bruke og en kjapp innføring finner du\n",
    "[her](https://daringfireball.net/projects/markdown/syntax#list \"Markdown guide\"). \n",
    "\n",
    "En annen celletype er \"Code\". Vi inkluderer en slik rett nedenfor der vi importerer et bibliotek som heter *numpy* (med alias np).\n"
   ]
  },
  {
   "cell_type": "code",
   "execution_count": null,
   "metadata": {},
   "outputs": [],
   "source": [
    "import numpy as np"
   ]
  },
  {
   "cell_type": "markdown",
   "metadata": {},
   "source": [
    "Merk at man utfører kode ved å taste Shift+Enter inne i en celle.\n",
    "\n",
    "Å sette inn nye celler under eller over en annen celle gjøres enkelt ved velge \"Insert\" i menyen. Default celletype blir \"Code\", men du kan endre denne i rullgardinmenyen hvor det står \"Code\"."
   ]
  },
  {
   "cell_type": "markdown",
   "metadata": {},
   "source": [
    "**Oppgave 1.** Et Python-bibliotek du skal bruke mye i dette kurset er *numpy*-biblioteket og vi har allerede vist hvordan du importerer dette. I dette biblioteket fins det meste av det du måtte trenge av numeriske metoder.\n",
    "Et annet mye brukt bibliotek er *matplotlib* som kan plotte ulike grafer og figurer. *scipy* er et tredje bibliotek, men du kommer stort sett langt uten dette så lenge du har importert *numpy*.\n",
    "\n",
    "Det fins utmerkede søkbare referansemanualer på nettet, se for eksempel\n",
    "* [numpy](https://docs.scipy.org/doc/numpy/index.html \"Numpy hovedside\")\n",
    "* [matplotlib](https://matplotlib.org/ \"matplotlib\")\n",
    "\n",
    "I denne oppgaven skal du bytte kommentarene med kjørbar python-kode som gjør det kommentaren sier"
   ]
  },
  {
   "cell_type": "code",
   "execution_count": 2,
   "metadata": {
    "pycharm": {
     "is_executing": false
    }
   },
   "outputs": [
    {
     "name": "stdout",
     "output_type": "stream",
     "text": [
      "zeroes: [0. 0. 0. 0. 0. 0. 0. 0. 0. 0.]\n",
      "ones: [1. 1. 1. 1. 1. 1. 1. 1. 1. 1.]\n",
      "\n",
      "sin(90) = 1.0\n",
      "cos(180) = -1.0\n",
      "\n",
      "linspace(0, 6.283185307179586, 100) \n",
      "= [0.         0.06346652 0.12693304 0.19039955 0.25386607 0.31733259\n",
      " 0.38079911 0.44426563 0.50773215 0.57119866 0.63466518 0.6981317\n",
      " 0.76159822 0.82506474 0.88853126 0.95199777 1.01546429 1.07893081\n",
      " 1.14239733 1.20586385 1.26933037 1.33279688 1.3962634  1.45972992\n",
      " 1.52319644 1.58666296 1.65012947 1.71359599 1.77706251 1.84052903\n",
      " 1.90399555 1.96746207 2.03092858 2.0943951  2.15786162 2.22132814\n",
      " 2.28479466 2.34826118 2.41172769 2.47519421 2.53866073 2.60212725\n",
      " 2.66559377 2.72906028 2.7925268  2.85599332 2.91945984 2.98292636\n",
      " 3.04639288 3.10985939 3.17332591 3.23679243 3.30025895 3.36372547\n",
      " 3.42719199 3.4906585  3.55412502 3.61759154 3.68105806 3.74452458\n",
      " 3.8079911  3.87145761 3.93492413 3.99839065 4.06185717 4.12532369\n",
      " 4.1887902  4.25225672 4.31572324 4.37918976 4.44265628 4.5061228\n",
      " 4.56958931 4.63305583 4.69652235 4.75998887 4.82345539 4.88692191\n",
      " 4.95038842 5.01385494 5.07732146 5.14078798 5.2042545  5.26772102\n",
      " 5.33118753 5.39465405 5.45812057 5.52158709 5.58505361 5.64852012\n",
      " 5.71198664 5.77545316 5.83891968 5.9023862  5.96585272 6.02931923\n",
      " 6.09278575 6.15625227 6.21971879 6.28318531]\n",
      "\n",
      "logspace(0, 6, 13) = [1.00000000e+00 3.16227766e+00 1.00000000e+01 3.16227766e+01\n",
      " 1.00000000e+02 3.16227766e+02 1.00000000e+03 3.16227766e+03\n",
      " 1.00000000e+04 3.16227766e+04 1.00000000e+05 3.16227766e+05\n",
      " 1.00000000e+06]\n",
      "\n"
     ]
    }
   ],
   "source": [
    "# Bruk dette og plt.plot (og plt.show) for å plotte grafen til sin(x) og cos(x) mellom 0 og 2*pi. Legg gjerne\n",
    "# på gridlinjer ved å kalle plt.grid()\n",
    "\n",
    "import numpy as np\n",
    "import matplotlib.pyplot as plt\n",
    "import matplotlib as mplt\n",
    "\n",
    "zeroes = np.zeros(10)\n",
    "ones = np.ones(10)\n",
    "print('zeroes: {0}\\nones: {1}\\n'.format(zeroes, ones))\n",
    "sin = np.sin(np.pi / 2)\n",
    "cos = np.cos(np.pi)\n",
    "print('sin(90) = {}\\ncos(180) = {}\\n'.format(sin, cos))\n",
    "x = 0\n",
    "y = 2*np.pi\n",
    "z = 100\n",
    "u = 0\n",
    "v = 6\n",
    "w = 13\n",
    "lin = np.linspace(x ,y, z)\n",
    "log = np.logspace(u, v, w)\n",
    "print('linspace({0}, {1}, {2}) \\n= {6}\\n\\n'\n",
    "      'logspace({3}, {4}, {5}) = {7}\\n'\n",
    "      .format(x, y, z, u, v, w, lin, log))\n",
    "\n",
    "plt.title(\"sin og cos fra 0 - 2*pi\")\n",
    "plt.plot(lin, np.sin(lin), color = \"b\", label = \"sin\")\n",
    "plt.plot(lin, np.cos(lin), color = \"r\", label = \"cos\")\n",
    "plt.legend()\n",
    "plt.hlines(0, 0, 2*np.pi, linestyles=\"-\")\n",
    "plt.hlines(0.5, 0, 2*np.pi, linestyles=\"--\")\n",
    "plt.hlines(1, 0, 2*np.pi, linestyles=\"--\")\n",
    "plt.hlines(-0.5, 0, 2*np.pi, linestyles=\"--\")\n",
    "plt.hlines(-1, 0, 2*np.pi, linestyles=\"--\")\n",
    "plt.vlines(0, -1, 1, linestyles= \"-\")\n",
    "plt.vlines(np.pi/2, -1, 1, linestyles= \"--\")\n",
    "plt.vlines(np.pi, -1, 1, linestyles= \"--\")\n",
    "plt.vlines(3 * np.pi/2, -1, 1, linestyles= \"--\")\n",
    "plt.vlines(2*np.pi, -1, 1, linestyles= \"--\")\n",
    "plt.xlabel('x')\n",
    "plt.ylabel('y')\n",
    "plt.show()"
   ]
  },
  {
   "cell_type": "markdown",
   "metadata": {},
   "source": [
    "**Oppgave 2**\n",
    "\n",
    "La oss forsøke å gjøre noe \"fornuftig\". Så langt har vi i timene lært om intervallhalveringsmetoden, \n",
    "så la oss lage en enkel implementasjon av denne. Vi søker nullpunkter i funksjonen\n",
    "$$ f(x) = \\frac12 + \\frac25 x - \\mathrm{e}^{-16x^2} $$\n",
    "\n",
    "**(a)** Start med å plotte å lage en Python-funksjon som definerer $f(x)$ og plott den i intervallet $[-2,2]$.\n",
    "\n",
    "**Kontrollspørsmål 1** Hvor mange nullpunkter har $f(x)$ i dette intervallet sett ut fra grafen?\n",
    "\n"
   ]
  },
  {
   "cell_type": "code",
   "execution_count": 1,
   "metadata": {
    "pycharm": {
     "is_executing": false
    }
   },
   "outputs": [
    {
     "data": {
      "image/png": "[encoded data removed]",
      "text/plain": [
       "<Figure size 432x288 with 1 Axes>"
      ]
     },
     "metadata": {
      "needs_background": "light"
     },
     "output_type": "display_data"
    },
    {
     "name": "stdout",
     "output_type": "stream",
     "text": [
      "Kontrollspørmål 1: Ser ut til å ha 2 nullpunkter\n"
     ]
    }
   ],
   "source": [
    "# Fyll inn koden for a-spørsmålet her\n",
    "import numpy as np\n",
    "import matplotlib.pyplot as plt\n",
    "\n",
    "def f(x):\n",
    "    punkt = 1/2 + 2/5 - np.e**(-16* x**2)\n",
    "    return punkt\n",
    "xakse = np.linspace(-2, 2, 500)\n",
    "y = []\n",
    "for i in xakse:\n",
    "    y.append(f(i))\n",
    "    # print(\"f({}) = {}\". format(round(i,2), round(f(i),2)))\n",
    "y = np.array(y)\n",
    "\n",
    "plt.plot(xakse, y)\n",
    "plt.ylim(-0.2, 1)\n",
    "plt.xlim(-2, 2)\n",
    "plt.hlines(0, -2, 2, linestyles=\"--\")\n",
    "plt.show()\n",
    "    \n",
    "print(\"Kontrollspørmål 1: Ser ut til å ha 2 nullpunkter\")"
   ]
  },
  {
   "cell_type": "markdown",
   "metadata": {},
   "source": [
    "**(b)** Skriv en funksjon med navn *inthalv* som tar 4 inputargumenter, de er\n",
    "* $f$: Funksjonen man skal finne nullpunkter av\n",
    "* $a$: Venstre endepunkt i startintervallet\n",
    "* $b$: Høyre endepunkt i startintervallet (må ha $f(a)\\cdot f(b) < 0$)\n",
    "* tol: En toleranse slik at $|r-m|<\\mathrm{tol}$ der $r$ er roten og $m$ er midtpunktet av det siste beregnede intervallet\n",
    "\n",
    "Funksjonen skal returnere midtpunktet $m$ i det sist beregnede intervallet, samt antall halveringer som er gjort.\n",
    "Kjør så funksjonen med $f$ som ovenfor, $a=-1.5$, $b=1.5$, $\\mathrm{tol}=10^{-7}$.\n",
    "\n",
    "**Kontrollspørsmål 2** Er roten du får ut med disse inngangsverdiene større eller mindre enn $0.18613431$ ?\n",
    "\n",
    "**Kontrollspørsmål 3** Hvor mange intervallhalveringer bruker funksjonen for å finne svaret?"
   ]
  },
  {
   "cell_type": "code",
   "execution_count": 4,
   "metadata": {
    "pycharm": {
     "is_executing": false
    }
   },
   "outputs": [
    {
     "name": "stdout",
     "text": [
      "Nullpunkt er når x = 0.1861342191696167 etter 23 halveringer.\n",
      "f(0.1861342191696167) = -3.6621060173214204e-07.\n",
      "0.186133719169617 < r < 0.186134719169617\n",
      "f(0.18613431) = -1.909159885737921e-08\n"
     ],
     "output_type": "stream"
    }
   ],
   "source": [
    "import numpy as np\n",
    "\n",
    "\n",
    "def f(x):\n",
    "    punkt = 1/2 + 2/5*x - np.e**(-16*x**2)\n",
    "    return punkt\n",
    "\n",
    "\n",
    "def inthalv(f,a,b,tol):\n",
    "    m = (a+b) / 2\n",
    "    k = 0\n",
    "    a0 = a\n",
    "    b0 = b\n",
    "    \n",
    "    while abs(f(m)) > tol:\n",
    "        m = (a+b) / 2\n",
    "        if f(a)*f(m) < 0:\n",
    "            b = m\n",
    "        elif f(a)*f(m) > 0:\n",
    "            a = m\n",
    "        else:\n",
    "            r = m\n",
    "        k += 1\n",
    "    return m, k\n",
    "\n",
    "midt, itr = inthalv(f, -1.5, 1.5, 10e-7)\n",
    "rmax = 0.5*10e-7 + midt\n",
    "rmin = midt - 0.5*10e-7 \n",
    "print(\"Nullpunkt er når x = {} etter {} halveringer.\".format(midt, itr))\n",
    "print(\"f({}) = {}.\".format(midt, f(midt)))\n",
    "print(\"{} < r < {}\".format(round(rmin, 15), round(rmax, 15)))\n",
    "print(\"f(0.18613431) = {}\".format(f(0.18613431)))     \n",
    "\n",
    "\n",
    "# Skriv kode som definerer input og kaller inthalv her"
   ]
  },
  {
   "cell_type": "markdown",
   "metadata": {},
   "source": [
    "**Kontrollspørsmål 2:** Nei.\n",
    "\n",
    "**Kontrollspørsmål 3:** 23.\n"
   ]
  }
 ],
 "metadata": {
  "kernelspec": {
   "display_name": "Python 3",
   "language": "python",
   "name": "python3"
  },
  "language_info": {
   "codemirror_mode": {
    "name": "ipython",
    "version": 3
   },
   "file_extension": ".py",
   "mimetype": "text/x-python",
   "name": "python",
   "nbconvert_exporter": "python",
   "pygments_lexer": "ipython3",
   "version": "3.7.0"
  },
  "pycharm": {
   "stem_cell": {
    "cell_type": "raw",
    "source": [],
    "metadata": {
     "collapsed": false
    }
   }
  },
  "toc": {
   "base_numbering": 1,
   "nav_menu": {},
   "number_sections": true,
   "sideBar": true,
   "skip_h1_title": true,
   "title_cell": "Table of Contents",
   "title_sidebar": "Contents",
   "toc_cell": false,
   "toc_position": {},
   "toc_section_display": true,
   "toc_window_display": false
  }
 },
 "nbformat": 4,
 "nbformat_minor": 2
}